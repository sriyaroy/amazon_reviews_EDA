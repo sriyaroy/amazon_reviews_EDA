{
 "cells": [
  {
   "cell_type": "markdown",
   "metadata": {},
   "source": [
    "Student ID: 1943348"
   ]
  },
  {
   "cell_type": "code",
   "execution_count": 2,
   "metadata": {},
   "outputs": [],
   "source": [
    "# importing all necessary libraries\n",
    "import numpy as np\n",
    "import pandas as pd"
   ]
  },
  {
   "cell_type": "markdown",
   "metadata": {},
   "source": [
    "1. Importing all datasets, Extracting the dataset (sampling them and concatenating them)"
   ]
  },
  {
   "cell_type": "code",
   "execution_count": 3,
   "metadata": {},
   "outputs": [],
   "source": [
    "## Specifying columns for .tsv files\n",
    "# NOTE: All .tsv files have the same columns\n",
    "cols = list(pd.read_table('amazonreviews_1943348/amazon_reviews_us_Beauty_v1_00.tsv', nrows=1))\n"
   ]
  },
  {
   "cell_type": "code",
   "execution_count": 4,
   "metadata": {},
   "outputs": [
    {
     "name": "stderr",
     "output_type": "stream",
     "text": [
      "C:\\Users\\leafp\\AppData\\Local\\Temp\\ipykernel_8920\\938704328.py:4: DtypeWarning: Columns (7) have mixed types. Specify dtype option on import or set low_memory=False.\n",
      "  beauty_tsv = pd.read_table('amazonreviews_1943348/amazon_reviews_us_Beauty_v1_00.tsv', sep='\\t',\n"
     ]
    },
    {
     "name": "stdout",
     "output_type": "stream",
     "text": [
      "beauty dataset imported!\n",
      "book dataset imported!\n"
     ]
    },
    {
     "name": "stderr",
     "output_type": "stream",
     "text": [
      "C:\\Users\\leafp\\AppData\\Local\\Temp\\ipykernel_8920\\938704328.py:12: DtypeWarning: Columns (7) have mixed types. Specify dtype option on import or set low_memory=False.\n",
      "  grocery_tsv = pd.read_table('amazonreviews_1943348/amazon_reviews_us_Grocery_v1_00.tsv', sep='\\t',\n"
     ]
    },
    {
     "name": "stdout",
     "output_type": "stream",
     "text": [
      "grocery dataset imported!\n"
     ]
    },
    {
     "name": "stderr",
     "output_type": "stream",
     "text": [
      "C:\\Users\\leafp\\AppData\\Local\\Temp\\ipykernel_8920\\938704328.py:16: DtypeWarning: Columns (7) have mixed types. Specify dtype option on import or set low_memory=False.\n",
      "  sports_tsv = pd.read_table('amazonreviews_1943348/amazon_reviews_us_Sports_v1_00.tsv', sep='\\t',\n"
     ]
    },
    {
     "name": "stdout",
     "output_type": "stream",
     "text": [
      "sports dataset imported!\n"
     ]
    }
   ],
   "source": [
    "## Read all 4 .tsv files (Shortest runtime: 3min 50.1s, Longest runtime: m s)\n",
    "# Ignoring redundant columns, sampling to the the first 2000 rows of each, converting to appropriate data type\n",
    "\n",
    "beauty_tsv = pd.read_table('amazonreviews_1943348/amazon_reviews_us_Beauty_v1_00.tsv', sep='\\t', \n",
    "                            usecols=[i for i in cols if i != 'marketplace' if i != 'vine' if i != 'verified_purchase' if i != 'review_date']).sample(2000, replace=False)\n",
    "print('beauty dataset imported!')\n",
    "\n",
    "books_tsv = pd.read_table('amazonreviews_1943348/amazon_reviews_us_Books_v1_02.tsv', sep='\\t', \n",
    "                            usecols=[i for i in cols if i != 'marketplace' if i != 'vine' if i != 'verified_purchase' if i != 'review_date']).sample(2000, replace=False)\n",
    "print('book dataset imported!')\n",
    "\n",
    "grocery_tsv = pd.read_table('amazonreviews_1943348/amazon_reviews_us_Grocery_v1_00.tsv', sep='\\t', \n",
    "                            usecols=[i for i in cols if i != 'marketplace' if i != 'vine' if i != 'verified_purchase' if i != 'review_date']).sample(2000, replace=False)\n",
    "print('grocery dataset imported!')\n",
    "\n",
    "sports_tsv = pd.read_table('amazonreviews_1943348/amazon_reviews_us_Sports_v1_00.tsv', sep='\\t', \n",
    "                            usecols=[i for i in cols if i != 'marketplace' if i != 'vine' if i != 'verified_purchase' if i != 'review_date']).sample(2000, replace=False)\n",
    "print('sports dataset imported!')\n"
   ]
  },
  {
   "cell_type": "code",
   "execution_count": 5,
   "metadata": {},
   "outputs": [],
   "source": [
    "# Concatenate all 4 tables into 1 table\n",
    "amazon_reviews = pd.concat([beauty_tsv,books_tsv,grocery_tsv,sports_tsv], axis=0)\n",
    "amazon_reviews.to_csv('amazon_reviews.csv', index=False)"
   ]
  },
  {
   "cell_type": "markdown",
   "metadata": {},
   "source": [
    "2. Checking the data"
   ]
  },
  {
   "cell_type": "code",
   "execution_count": 6,
   "metadata": {},
   "outputs": [
    {
     "data": {
      "text/plain": [
       "(8000, 11)"
      ]
     },
     "execution_count": 6,
     "metadata": {},
     "output_type": "execute_result"
    }
   ],
   "source": [
    "# How many rows and columns in amazon_reviews\n",
    "amazon_reviews.shape"
   ]
  },
  {
   "cell_type": "code",
   "execution_count": 7,
   "metadata": {},
   "outputs": [
    {
     "data": {
      "text/html": [
       "<div>\n",
       "<style scoped>\n",
       "    .dataframe tbody tr th:only-of-type {\n",
       "        vertical-align: middle;\n",
       "    }\n",
       "\n",
       "    .dataframe tbody tr th {\n",
       "        vertical-align: top;\n",
       "    }\n",
       "\n",
       "    .dataframe thead th {\n",
       "        text-align: right;\n",
       "    }\n",
       "</style>\n",
       "<table border=\"1\" class=\"dataframe\">\n",
       "  <thead>\n",
       "    <tr style=\"text-align: right;\">\n",
       "      <th></th>\n",
       "      <th>customer_id</th>\n",
       "      <th>review_id</th>\n",
       "      <th>product_id</th>\n",
       "      <th>product_parent</th>\n",
       "      <th>product_title</th>\n",
       "      <th>product_category</th>\n",
       "      <th>star_rating</th>\n",
       "      <th>helpful_votes</th>\n",
       "      <th>total_votes</th>\n",
       "      <th>review_headline</th>\n",
       "      <th>review_body</th>\n",
       "    </tr>\n",
       "  </thead>\n",
       "  <tbody>\n",
       "    <tr>\n",
       "      <th>3213698</th>\n",
       "      <td>11473195</td>\n",
       "      <td>R2PLDLXNCMW19E</td>\n",
       "      <td>B00BSG6GTY</td>\n",
       "      <td>128387274</td>\n",
       "      <td>SEACRET Secret Mineral Rich Clarifying Mud Mas...</td>\n",
       "      <td>Beauty</td>\n",
       "      <td>5</td>\n",
       "      <td>1.0</td>\n",
       "      <td>1.0</td>\n",
       "      <td>Love it!</td>\n",
       "      <td>The first time I used this product, it made my...</td>\n",
       "    </tr>\n",
       "    <tr>\n",
       "      <th>4981490</th>\n",
       "      <td>38243069</td>\n",
       "      <td>R1GVAGTNXAIGYW</td>\n",
       "      <td>B001U85CO0</td>\n",
       "      <td>766146731</td>\n",
       "      <td>Dudu-Osun AfricanBlack Soap (100% Pure)</td>\n",
       "      <td>Beauty</td>\n",
       "      <td>5</td>\n",
       "      <td>0.0</td>\n",
       "      <td>0.0</td>\n",
       "      <td>Great, natural soap!</td>\n",
       "      <td>Thank you for providing Dudu-Osun Black soap a...</td>\n",
       "    </tr>\n",
       "    <tr>\n",
       "      <th>88887</th>\n",
       "      <td>49384976</td>\n",
       "      <td>R32U67TJZ1QKH0</td>\n",
       "      <td>B004SU8EKG</td>\n",
       "      <td>514341214</td>\n",
       "      <td>Pro Beauty Tools Professional Speed Waver</td>\n",
       "      <td>Beauty</td>\n",
       "      <td>3</td>\n",
       "      <td>0.0</td>\n",
       "      <td>0.0</td>\n",
       "      <td>Not great if you already have wavy hair.</td>\n",
       "      <td>If you have wavy hair and want to look like a ...</td>\n",
       "    </tr>\n",
       "    <tr>\n",
       "      <th>3924436</th>\n",
       "      <td>16145774</td>\n",
       "      <td>R2P65P707WRREB</td>\n",
       "      <td>B000QUM5LG</td>\n",
       "      <td>377509094</td>\n",
       "      <td>eye make up remover</td>\n",
       "      <td>Beauty</td>\n",
       "      <td>5</td>\n",
       "      <td>0.0</td>\n",
       "      <td>0.0</td>\n",
       "      <td>Best eye make up remover</td>\n",
       "      <td>I've tried so many different brands of eye mak...</td>\n",
       "    </tr>\n",
       "    <tr>\n",
       "      <th>4126870</th>\n",
       "      <td>48960255</td>\n",
       "      <td>R1H4MU0VUU4HK2</td>\n",
       "      <td>B000QU8QS2</td>\n",
       "      <td>553313828</td>\n",
       "      <td>Betty Dain Hair Funnel</td>\n",
       "      <td>Beauty</td>\n",
       "      <td>3</td>\n",
       "      <td>0.0</td>\n",
       "      <td>0.0</td>\n",
       "      <td>Water seeps through</td>\n",
       "      <td>I find it a little narrow on the top.  It is o...</td>\n",
       "    </tr>\n",
       "  </tbody>\n",
       "</table>\n",
       "</div>"
      ],
      "text/plain": [
       "         customer_id       review_id  product_id  product_parent  \\\n",
       "3213698     11473195  R2PLDLXNCMW19E  B00BSG6GTY       128387274   \n",
       "4981490     38243069  R1GVAGTNXAIGYW  B001U85CO0       766146731   \n",
       "88887       49384976  R32U67TJZ1QKH0  B004SU8EKG       514341214   \n",
       "3924436     16145774  R2P65P707WRREB  B000QUM5LG       377509094   \n",
       "4126870     48960255  R1H4MU0VUU4HK2  B000QU8QS2       553313828   \n",
       "\n",
       "                                             product_title product_category  \\\n",
       "3213698  SEACRET Secret Mineral Rich Clarifying Mud Mas...           Beauty   \n",
       "4981490            Dudu-Osun AfricanBlack Soap (100% Pure)           Beauty   \n",
       "88887            Pro Beauty Tools Professional Speed Waver           Beauty   \n",
       "3924436                                eye make up remover           Beauty   \n",
       "4126870                             Betty Dain Hair Funnel           Beauty   \n",
       "\n",
       "        star_rating  helpful_votes  total_votes  \\\n",
       "3213698           5            1.0          1.0   \n",
       "4981490           5            0.0          0.0   \n",
       "88887             3            0.0          0.0   \n",
       "3924436           5            0.0          0.0   \n",
       "4126870           3            0.0          0.0   \n",
       "\n",
       "                                  review_headline  \\\n",
       "3213698                                  Love it!   \n",
       "4981490                      Great, natural soap!   \n",
       "88887    Not great if you already have wavy hair.   \n",
       "3924436                  Best eye make up remover   \n",
       "4126870                       Water seeps through   \n",
       "\n",
       "                                               review_body  \n",
       "3213698  The first time I used this product, it made my...  \n",
       "4981490  Thank you for providing Dudu-Osun Black soap a...  \n",
       "88887    If you have wavy hair and want to look like a ...  \n",
       "3924436  I've tried so many different brands of eye mak...  \n",
       "4126870  I find it a little narrow on the top.  It is o...  "
      ]
     },
     "execution_count": 7,
     "metadata": {},
     "output_type": "execute_result"
    }
   ],
   "source": [
    "# First 5 rows in data frame\n",
    "amazon_reviews.head()"
   ]
  },
  {
   "cell_type": "code",
   "execution_count": 8,
   "metadata": {},
   "outputs": [
    {
     "data": {
      "text/html": [
       "<div>\n",
       "<style scoped>\n",
       "    .dataframe tbody tr th:only-of-type {\n",
       "        vertical-align: middle;\n",
       "    }\n",
       "\n",
       "    .dataframe tbody tr th {\n",
       "        vertical-align: top;\n",
       "    }\n",
       "\n",
       "    .dataframe thead th {\n",
       "        text-align: right;\n",
       "    }\n",
       "</style>\n",
       "<table border=\"1\" class=\"dataframe\">\n",
       "  <thead>\n",
       "    <tr style=\"text-align: right;\">\n",
       "      <th></th>\n",
       "      <th>customer_id</th>\n",
       "      <th>review_id</th>\n",
       "      <th>product_id</th>\n",
       "      <th>product_parent</th>\n",
       "      <th>product_title</th>\n",
       "      <th>product_category</th>\n",
       "      <th>star_rating</th>\n",
       "      <th>helpful_votes</th>\n",
       "      <th>total_votes</th>\n",
       "      <th>review_headline</th>\n",
       "      <th>review_body</th>\n",
       "    </tr>\n",
       "  </thead>\n",
       "  <tbody>\n",
       "    <tr>\n",
       "      <th>3340541</th>\n",
       "      <td>17439923</td>\n",
       "      <td>R2N7E0VM1WNW53</td>\n",
       "      <td>B000T8ERZ2</td>\n",
       "      <td>72251589</td>\n",
       "      <td>Mechanics Tool Bag</td>\n",
       "      <td>Sports</td>\n",
       "      <td>5.0</td>\n",
       "      <td>0.0</td>\n",
       "      <td>0.0</td>\n",
       "      <td>Works for me</td>\n",
       "      <td>This bag seems to be very well built and it wo...</td>\n",
       "    </tr>\n",
       "    <tr>\n",
       "      <th>3464193</th>\n",
       "      <td>13074092</td>\n",
       "      <td>R30BBITD1DYBSY</td>\n",
       "      <td>B003NGV5HU</td>\n",
       "      <td>167142335</td>\n",
       "      <td>NFL Golf Umbrella</td>\n",
       "      <td>Sports</td>\n",
       "      <td>5</td>\n",
       "      <td>4.0</td>\n",
       "      <td>4.0</td>\n",
       "      <td>Excellent Quality</td>\n",
       "      <td>This umbrella came in right in time to save me...</td>\n",
       "    </tr>\n",
       "    <tr>\n",
       "      <th>4078169</th>\n",
       "      <td>22122933</td>\n",
       "      <td>R2TM0VKAL5PRII</td>\n",
       "      <td>B005SKECPG</td>\n",
       "      <td>287919621</td>\n",
       "      <td>Skywalker Square Trampoline Safety Pad fits 13...</td>\n",
       "      <td>Sports</td>\n",
       "      <td>5.0</td>\n",
       "      <td>0.0</td>\n",
       "      <td>0.0</td>\n",
       "      <td>Perfect fit, good quality</td>\n",
       "      <td>Perfect fit, good quality. I was worried it wo...</td>\n",
       "    </tr>\n",
       "    <tr>\n",
       "      <th>1191433</th>\n",
       "      <td>23158293</td>\n",
       "      <td>RXG98VNVRG3QI</td>\n",
       "      <td>B008SV1SI6</td>\n",
       "      <td>50361501</td>\n",
       "      <td>Nike Shox Turbo 14 Mens Style: 631760-006 Size...</td>\n",
       "      <td>Sports</td>\n",
       "      <td>4</td>\n",
       "      <td>0.0</td>\n",
       "      <td>0.0</td>\n",
       "      <td>Four Stars</td>\n",
       "      <td>Awsome</td>\n",
       "    </tr>\n",
       "    <tr>\n",
       "      <th>1372667</th>\n",
       "      <td>43098763</td>\n",
       "      <td>RLT4FBNMVMU8Z</td>\n",
       "      <td>B0000BWH2X</td>\n",
       "      <td>639662688</td>\n",
       "      <td>Champion Sports Extreme Tie Dye</td>\n",
       "      <td>Sports</td>\n",
       "      <td>3</td>\n",
       "      <td>0.0</td>\n",
       "      <td>0.0</td>\n",
       "      <td>Three Stars</td>\n",
       "      <td>Only lasted one weekend of games.</td>\n",
       "    </tr>\n",
       "  </tbody>\n",
       "</table>\n",
       "</div>"
      ],
      "text/plain": [
       "         customer_id       review_id  product_id  product_parent  \\\n",
       "3340541     17439923  R2N7E0VM1WNW53  B000T8ERZ2        72251589   \n",
       "3464193     13074092  R30BBITD1DYBSY  B003NGV5HU       167142335   \n",
       "4078169     22122933  R2TM0VKAL5PRII  B005SKECPG       287919621   \n",
       "1191433     23158293   RXG98VNVRG3QI  B008SV1SI6        50361501   \n",
       "1372667     43098763   RLT4FBNMVMU8Z  B0000BWH2X       639662688   \n",
       "\n",
       "                                             product_title product_category  \\\n",
       "3340541                                 Mechanics Tool Bag           Sports   \n",
       "3464193                                  NFL Golf Umbrella           Sports   \n",
       "4078169  Skywalker Square Trampoline Safety Pad fits 13...           Sports   \n",
       "1191433  Nike Shox Turbo 14 Mens Style: 631760-006 Size...           Sports   \n",
       "1372667                    Champion Sports Extreme Tie Dye           Sports   \n",
       "\n",
       "        star_rating  helpful_votes  total_votes            review_headline  \\\n",
       "3340541         5.0            0.0          0.0               Works for me   \n",
       "3464193           5            4.0          4.0          Excellent Quality   \n",
       "4078169         5.0            0.0          0.0  Perfect fit, good quality   \n",
       "1191433           4            0.0          0.0                 Four Stars   \n",
       "1372667           3            0.0          0.0                Three Stars   \n",
       "\n",
       "                                               review_body  \n",
       "3340541  This bag seems to be very well built and it wo...  \n",
       "3464193  This umbrella came in right in time to save me...  \n",
       "4078169  Perfect fit, good quality. I was worried it wo...  \n",
       "1191433                                             Awsome  \n",
       "1372667                  Only lasted one weekend of games.  "
      ]
     },
     "execution_count": 8,
     "metadata": {},
     "output_type": "execute_result"
    }
   ],
   "source": [
    "# Last 5 rows in data frame\n",
    "amazon_reviews.tail()"
   ]
  },
  {
   "cell_type": "code",
   "execution_count": 9,
   "metadata": {},
   "outputs": [
    {
     "data": {
      "text/plain": [
       "customer_id           int64\n",
       "review_id            object\n",
       "product_id           object\n",
       "product_parent        int64\n",
       "product_title        object\n",
       "product_category     object\n",
       "star_rating          object\n",
       "helpful_votes       float64\n",
       "total_votes         float64\n",
       "review_headline      object\n",
       "review_body          object\n",
       "dtype: object"
      ]
     },
     "execution_count": 9,
     "metadata": {},
     "output_type": "execute_result"
    }
   ],
   "source": [
    "# Check data type of every field\n",
    "amazon_reviews.dtypes"
   ]
  },
  {
   "cell_type": "code",
   "execution_count": 10,
   "metadata": {},
   "outputs": [],
   "source": [
    "# Manually set the data types of each column\n",
    "amazon_reviews.customer_id = amazon_reviews.customer_id.astype(int)\n",
    "amazon_reviews.review_id = amazon_reviews.review_id.astype(str)\n",
    "amazon_reviews.product_id = amazon_reviews.product_id.astype(str)\n",
    "amazon_reviews.product_category = amazon_reviews.product_category.astype(str)\n",
    "amazon_reviews.product_title = amazon_reviews.product_title.astype(str)\n",
    "amazon_reviews.star_rating = amazon_reviews.star_rating.astype(float)\n",
    "amazon_reviews.helpful_votes = amazon_reviews.helpful_votes.astype(float)\n",
    "amazon_reviews.total_votes = amazon_reviews.total_votes.astype(float)\n",
    "amazon_reviews.review_headline = amazon_reviews.review_headline.astype(str)\n",
    "amazon_reviews.review_body = amazon_reviews.review_body.astype(str)"
   ]
  },
  {
   "cell_type": "markdown",
   "metadata": {},
   "source": [
    "2. Cleaning the dataset: Noise Reduction/Removal"
   ]
  },
  {
   "cell_type": "code",
   "execution_count": 11,
   "metadata": {},
   "outputs": [
    {
     "name": "stderr",
     "output_type": "stream",
     "text": [
      "D:\\Conda\\envs\\WM3B7\\lib\\site-packages\\bs4\\__init__.py:435: MarkupResemblesLocatorWarning: The input looks more like a filename than markup. You may want to open this file and pass the filehandle into Beautiful Soup.\n",
      "  warnings.warn(\n"
     ]
    }
   ],
   "source": [
    "from bs4 import BeautifulSoup\n",
    "# Removing HTML tags and emojis from 'review_body' field\n",
    "amazon_reviews['review_body'] = [BeautifulSoup(text, \"lxml\").get_text() for text in amazon_reviews['review_body']]\n",
    "amazon_reviews = amazon_reviews.astype(str).apply(lambda x: x.str.encode('ascii','ignore').str.decode('ascii'))\n"
   ]
  },
  {
   "cell_type": "code",
   "execution_count": 12,
   "metadata": {},
   "outputs": [],
   "source": [
    "# Removing '\\\\' and phrases that start with '[[' and end with ']]' from review_body\n",
    "amazon_reviews['review_body'] = amazon_reviews['review_body'].map(lambda x: x.lstrip('\"\\\\[[~').rstrip('\"\\\\]]~'))\n"
   ]
  },
  {
   "cell_type": "code",
   "execution_count": 13,
   "metadata": {},
   "outputs": [],
   "source": [
    "# Removing '...' from review_heading and review_body\n",
    "amazon_reviews['review_body'] = amazon_reviews['review_body'].map(lambda x: x.lstrip('...*****=)_    .  .     .    .     ').rstrip('...*****=)_    .  .     .    .     '))\n",
    "amazon_reviews.to_csv('amazon_reviews.csv', index=False)"
   ]
  },
  {
   "cell_type": "markdown",
   "metadata": {},
   "source": [
    "2. Cleaning the datset: Removing redundant rows from Data Frame"
   ]
  },
  {
   "cell_type": "code",
   "execution_count": 19,
   "metadata": {},
   "outputs": [
    {
     "name": "stdout",
     "output_type": "stream",
     "text": [
      "customer_id         0\n",
      "review_id           0\n",
      "product_id          0\n",
      "product_parent      0\n",
      "product_title       0\n",
      "product_category    0\n",
      "star_rating         0\n",
      "helpful_votes       0\n",
      "total_votes         0\n",
      "review_headline     0\n",
      "review_body         0\n",
      "dtype: int64\n"
     ]
    },
    {
     "data": {
      "text/plain": [
       "(7999, 11)"
      ]
     },
     "execution_count": 19,
     "metadata": {},
     "output_type": "execute_result"
    }
   ],
   "source": [
    "# Dropping values with no data in 'review_body'\n",
    "nan_value = float(\"NaN\")\n",
    "amazon_reviews.replace('', nan_value, inplace=True)\n",
    "amazon_reviews.dropna(subset=['review_body','review_headline'], inplace=True)\n",
    "amazon_reviews.to_csv('amazon_reviews.csv', index=False)\n",
    "\n",
    "# Checking for null values and how many there are\n",
    "print(amazon_reviews.isnull().sum())\n",
    "# there are 0 null values in this dataset\n",
    "\n",
    "# Check shape after cleaning the dataframe\n",
    "amazon_reviews.shape\n",
    "\n"
   ]
  },
  {
   "cell_type": "markdown",
   "metadata": {},
   "source": [
    "2. Cleaning the dataset: Detecting and removing outliers"
   ]
  },
  {
   "cell_type": "code",
   "execution_count": 22,
   "metadata": {},
   "outputs": [],
   "source": [
    "# Manually set the data types of each column\n",
    "amazon_reviews.customer_id = amazon_reviews.customer_id.astype(int)\n",
    "amazon_reviews.review_id = amazon_reviews.review_id.astype(str)\n",
    "amazon_reviews.product_id = amazon_reviews.product_id.astype(str)\n",
    "amazon_reviews.product_category = amazon_reviews.product_category.astype(str)\n",
    "amazon_reviews.product_title = amazon_reviews.product_title.astype(str)\n",
    "amazon_reviews.star_rating = amazon_reviews.star_rating.astype(float)\n",
    "amazon_reviews.helpful_votes = amazon_reviews.helpful_votes.astype(float)\n",
    "amazon_reviews.total_votes = amazon_reviews.total_votes.astype(float)\n",
    "amazon_reviews.review_headline = amazon_reviews.review_headline.astype(str)\n",
    "amazon_reviews.review_body = amazon_reviews.review_body.astype(str)"
   ]
  },
  {
   "cell_type": "code",
   "execution_count": 23,
   "metadata": {},
   "outputs": [
    {
     "data": {
      "text/plain": [
       "dtype('float64')"
      ]
     },
     "execution_count": 23,
     "metadata": {},
     "output_type": "execute_result"
    }
   ],
   "source": [
    "## Use Tukey's rule to detect outliers\n",
    "# Calculate the IQR of the data\n",
    "\n",
    "# Find Q1 and Q3 of the data\n",
    "amazon_reviews.total_votes.dtype"
   ]
  },
  {
   "cell_type": "code",
   "execution_count": 24,
   "metadata": {},
   "outputs": [],
   "source": [
    "# Calculating the IQR point\n",
    "q1 = amazon_reviews.total_votes.quantile(0.25)\n",
    "q3 = amazon_reviews.total_votes.quantile(0.75)\n",
    "iqr = q3 - q1"
   ]
  },
  {
   "cell_type": "code",
   "execution_count": 25,
   "metadata": {},
   "outputs": [],
   "source": [
    "# Calculating boundaries (1.5)\n",
    "lower_lim = q1 - 1.5 * iqr\n",
    "upper_lim = q3 + 1.5 * iqr"
   ]
  },
  {
   "cell_type": "code",
   "execution_count": 26,
   "metadata": {},
   "outputs": [
    {
     "data": {
      "text/plain": [
       "6911"
      ]
     },
     "execution_count": 26,
     "metadata": {},
     "output_type": "execute_result"
    }
   ],
   "source": [
    "# Removing the outliers\n",
    "outliers_15_low = (amazon_reviews['total_votes'] < lower_lim)\n",
    "outliers_15_up = (amazon_reviews['total_votes'] > upper_lim)\n",
    "\n",
    "# 294 rows are outliers in the dataset, 6581 remaning rows in the dataset\n",
    "len(amazon_reviews['total_votes']) - (len(amazon_reviews['total_votes'][outliers_15_low]) + len(amazon_reviews['total_votes'][outliers_15_up]))"
   ]
  },
  {
   "cell_type": "code",
   "execution_count": 28,
   "metadata": {},
   "outputs": [
    {
     "data": {
      "text/plain": [
       "1771088    16.0\n",
       "2123675    75.0\n",
       "3304351     9.0\n",
       "779481     13.0\n",
       "3567743    19.0\n",
       "           ... \n",
       "3080131    58.0\n",
       "4528620    13.0\n",
       "4777157    13.0\n",
       "3657909     8.0\n",
       "4400070    16.0\n",
       "Name: total_votes, Length: 1088, dtype: float64"
      ]
     },
     "execution_count": 28,
     "metadata": {},
     "output_type": "execute_result"
    }
   ],
   "source": [
    "amazon_reviews['total_votes'][(outliers_15_low|outliers_15_up)]"
   ]
  },
  {
   "cell_type": "code",
   "execution_count": 29,
   "metadata": {},
   "outputs": [],
   "source": [
    "# Removing outliers from the dataset\n",
    "amazon_reviews = amazon_reviews[~(outliers_15_low|outliers_15_up)]\n",
    "amazon_reviews.to_csv('amazon_reviews.csv', index=False)"
   ]
  },
  {
   "cell_type": "markdown",
   "metadata": {},
   "source": [
    "2. Cleaning the dataset: Adding a proper index"
   ]
  },
  {
   "cell_type": "code",
   "execution_count": 30,
   "metadata": {},
   "outputs": [],
   "source": [
    "# Add an index column for the cleaned dataset\n",
    "amazon_reviews.reset_index(drop=True, inplace=True)\n",
    "amazon_reviews.sort_index(inplace=True)\n",
    "amazon_reviews.index = range(amazon_reviews.shape[0])\n",
    "\n",
    "# write to .csv file\n",
    "amazon_reviews.to_csv('amazon_reviews.csv', index=False)\n"
   ]
  },
  {
   "cell_type": "markdown",
   "metadata": {},
   "source": [
    "2. Cleaning the dataset: Reshaping the DataFrame"
   ]
  },
  {
   "cell_type": "code",
   "execution_count": 31,
   "metadata": {},
   "outputs": [
    {
     "data": {
      "text/html": [
       "<div>\n",
       "<style scoped>\n",
       "    .dataframe tbody tr th:only-of-type {\n",
       "        vertical-align: middle;\n",
       "    }\n",
       "\n",
       "    .dataframe tbody tr th {\n",
       "        vertical-align: top;\n",
       "    }\n",
       "\n",
       "    .dataframe thead tr th {\n",
       "        text-align: left;\n",
       "    }\n",
       "\n",
       "    .dataframe thead tr:last-of-type th {\n",
       "        text-align: right;\n",
       "    }\n",
       "</style>\n",
       "<table border=\"1\" class=\"dataframe\">\n",
       "  <thead>\n",
       "    <tr>\n",
       "      <th></th>\n",
       "      <th colspan=\"5\" halign=\"left\">helpful_votes</th>\n",
       "      <th colspan=\"5\" halign=\"left\">total_votes</th>\n",
       "    </tr>\n",
       "    <tr>\n",
       "      <th>product_category</th>\n",
       "      <th>Beauty</th>\n",
       "      <th>Books</th>\n",
       "      <th>Grocery</th>\n",
       "      <th>Sports</th>\n",
       "      <th>All</th>\n",
       "      <th>Beauty</th>\n",
       "      <th>Books</th>\n",
       "      <th>Grocery</th>\n",
       "      <th>Sports</th>\n",
       "      <th>All</th>\n",
       "    </tr>\n",
       "    <tr>\n",
       "      <th>star_rating</th>\n",
       "      <th></th>\n",
       "      <th></th>\n",
       "      <th></th>\n",
       "      <th></th>\n",
       "      <th></th>\n",
       "      <th></th>\n",
       "      <th></th>\n",
       "      <th></th>\n",
       "      <th></th>\n",
       "      <th></th>\n",
       "    </tr>\n",
       "  </thead>\n",
       "  <tbody>\n",
       "    <tr>\n",
       "      <th>1.0</th>\n",
       "      <td>131.0</td>\n",
       "      <td>112.0</td>\n",
       "      <td>115.0</td>\n",
       "      <td>113.0</td>\n",
       "      <td>471.0</td>\n",
       "      <td>228.0</td>\n",
       "      <td>201.0</td>\n",
       "      <td>248.0</td>\n",
       "      <td>197.0</td>\n",
       "      <td>874.0</td>\n",
       "    </tr>\n",
       "    <tr>\n",
       "      <th>2.0</th>\n",
       "      <td>74.0</td>\n",
       "      <td>80.0</td>\n",
       "      <td>65.0</td>\n",
       "      <td>77.0</td>\n",
       "      <td>296.0</td>\n",
       "      <td>140.0</td>\n",
       "      <td>126.0</td>\n",
       "      <td>100.0</td>\n",
       "      <td>142.0</td>\n",
       "      <td>508.0</td>\n",
       "    </tr>\n",
       "    <tr>\n",
       "      <th>3.0</th>\n",
       "      <td>91.0</td>\n",
       "      <td>209.0</td>\n",
       "      <td>100.0</td>\n",
       "      <td>85.0</td>\n",
       "      <td>485.0</td>\n",
       "      <td>127.0</td>\n",
       "      <td>301.0</td>\n",
       "      <td>147.0</td>\n",
       "      <td>133.0</td>\n",
       "      <td>708.0</td>\n",
       "    </tr>\n",
       "    <tr>\n",
       "      <th>4.0</th>\n",
       "      <td>141.0</td>\n",
       "      <td>564.0</td>\n",
       "      <td>159.0</td>\n",
       "      <td>183.0</td>\n",
       "      <td>1047.0</td>\n",
       "      <td>192.0</td>\n",
       "      <td>699.0</td>\n",
       "      <td>206.0</td>\n",
       "      <td>260.0</td>\n",
       "      <td>1357.0</td>\n",
       "    </tr>\n",
       "    <tr>\n",
       "      <th>5.0</th>\n",
       "      <td>723.0</td>\n",
       "      <td>1540.0</td>\n",
       "      <td>762.0</td>\n",
       "      <td>605.0</td>\n",
       "      <td>3630.0</td>\n",
       "      <td>916.0</td>\n",
       "      <td>1992.0</td>\n",
       "      <td>923.0</td>\n",
       "      <td>782.0</td>\n",
       "      <td>4613.0</td>\n",
       "    </tr>\n",
       "  </tbody>\n",
       "</table>\n",
       "</div>"
      ],
      "text/plain": [
       "                 helpful_votes                                total_votes  \\\n",
       "product_category        Beauty   Books Grocery Sports     All      Beauty   \n",
       "star_rating                                                                 \n",
       "1.0                      131.0   112.0   115.0  113.0   471.0       228.0   \n",
       "2.0                       74.0    80.0    65.0   77.0   296.0       140.0   \n",
       "3.0                       91.0   209.0   100.0   85.0   485.0       127.0   \n",
       "4.0                      141.0   564.0   159.0  183.0  1047.0       192.0   \n",
       "5.0                      723.0  1540.0   762.0  605.0  3630.0       916.0   \n",
       "\n",
       "                                                 \n",
       "product_category   Books Grocery Sports     All  \n",
       "star_rating                                      \n",
       "1.0                201.0   248.0  197.0   874.0  \n",
       "2.0                126.0   100.0  142.0   508.0  \n",
       "3.0                301.0   147.0  133.0   708.0  \n",
       "4.0                699.0   206.0  260.0  1357.0  \n",
       "5.0               1992.0   923.0  782.0  4613.0  "
      ]
     },
     "execution_count": 31,
     "metadata": {},
     "output_type": "execute_result"
    }
   ],
   "source": [
    "## Pivot table 1\n",
    "# Shows the number of helpful votes and total votes each star rated review got under all 4 categories\n",
    "\n",
    "votes_per_star = pd.pivot_table(amazon_reviews, index='star_rating', columns = 'product_category', values=['helpful_votes','total_votes'], aggfunc=np.sum, margins=True)\n",
    "votes_per_star.head()"
   ]
  },
  {
   "cell_type": "markdown",
   "metadata": {},
   "source": [
    "3. Exploratory Data Analysis: Basic Statistical Analysis"
   ]
  },
  {
   "cell_type": "code",
   "execution_count": 32,
   "metadata": {},
   "outputs": [
    {
     "data": {
      "text/plain": [
       "count    6911.000000\n",
       "mean        0.857908\n",
       "std         1.449211\n",
       "min         0.000000\n",
       "25%         0.000000\n",
       "50%         0.000000\n",
       "75%         1.000000\n",
       "max         7.000000\n",
       "Name: helpful_votes, dtype: float64"
      ]
     },
     "execution_count": 32,
     "metadata": {},
     "output_type": "execute_result"
    }
   ],
   "source": [
    "# Description of helpful_votes column in dataset\n",
    "amazon_reviews['helpful_votes'].describe()"
   ]
  },
  {
   "cell_type": "code",
   "execution_count": 33,
   "metadata": {},
   "outputs": [
    {
     "data": {
      "text/html": [
       "<div>\n",
       "<style scoped>\n",
       "    .dataframe tbody tr th:only-of-type {\n",
       "        vertical-align: middle;\n",
       "    }\n",
       "\n",
       "    .dataframe tbody tr th {\n",
       "        vertical-align: top;\n",
       "    }\n",
       "\n",
       "    .dataframe thead th {\n",
       "        text-align: right;\n",
       "    }\n",
       "</style>\n",
       "<table border=\"1\" class=\"dataframe\">\n",
       "  <thead>\n",
       "    <tr style=\"text-align: right;\">\n",
       "      <th></th>\n",
       "      <th>helpful_votes</th>\n",
       "      <th>star_rating</th>\n",
       "      <th>total_votes</th>\n",
       "    </tr>\n",
       "    <tr>\n",
       "      <th>product_category</th>\n",
       "      <th></th>\n",
       "      <th></th>\n",
       "      <th></th>\n",
       "    </tr>\n",
       "  </thead>\n",
       "  <tbody>\n",
       "    <tr>\n",
       "      <th>Beauty</th>\n",
       "      <td>0.612460</td>\n",
       "      <td>4.258712</td>\n",
       "      <td>0.846357</td>\n",
       "    </tr>\n",
       "    <tr>\n",
       "      <th>Books</th>\n",
       "      <td>2.089241</td>\n",
       "      <td>4.320267</td>\n",
       "      <td>2.768140</td>\n",
       "    </tr>\n",
       "    <tr>\n",
       "      <th>Grocery</th>\n",
       "      <td>0.628138</td>\n",
       "      <td>4.358787</td>\n",
       "      <td>0.849372</td>\n",
       "    </tr>\n",
       "    <tr>\n",
       "      <th>Sports</th>\n",
       "      <td>0.557712</td>\n",
       "      <td>4.274397</td>\n",
       "      <td>0.794334</td>\n",
       "    </tr>\n",
       "  </tbody>\n",
       "</table>\n",
       "</div>"
      ],
      "text/plain": [
       "                  helpful_votes  star_rating  total_votes\n",
       "product_category                                         \n",
       "Beauty                 0.612460     4.258712     0.846357\n",
       "Books                  2.089241     4.320267     2.768140\n",
       "Grocery                0.628138     4.358787     0.849372\n",
       "Sports                 0.557712     4.274397     0.794334"
      ]
     },
     "execution_count": 33,
     "metadata": {},
     "output_type": "execute_result"
    }
   ],
   "source": [
    "# Average star_rating, helpful_votes and total_votes in each category\n",
    "avg_star_category = pd.pivot_table(amazon_reviews, index='product_category', values=['helpful_votes','total_votes','star_rating'])\n",
    "avg_star_category"
   ]
  },
  {
   "cell_type": "code",
   "execution_count": 34,
   "metadata": {},
   "outputs": [],
   "source": [
    "import matplotlib.pyplot as plt\n",
    "import seaborn as sns"
   ]
  },
  {
   "cell_type": "markdown",
   "metadata": {},
   "source": [
    "A scatter plot showing the number of helpful votes against total votes"
   ]
  },
  {
   "cell_type": "code",
   "execution_count": 35,
   "metadata": {},
   "outputs": [
    {
     "data": {
      "text/plain": [
       "<AxesSubplot:xlabel='review_id', ylabel='total_votes'>"
      ]
     },
     "execution_count": 35,
     "metadata": {},
     "output_type": "execute_result"
    },
    {
     "data": {
      "image/png": "[encoded data removed]",
      "text/plain": [
       "<Figure size 432x288 with 1 Axes>"
      ]
     },
     "metadata": {
      "needs_background": "light"
     },
     "output_type": "display_data"
    }
   ],
   "source": [
    "sns.boxplot(x=amazon_reviews['review_id'],y=amazon_reviews['total_votes'], data=amazon_reviews)"
   ]
  },
  {
   "cell_type": "markdown",
   "metadata": {},
   "source": [
    "Histogram showing the total number of votes in each category"
   ]
  },
  {
   "cell_type": "code",
   "execution_count": 36,
   "metadata": {},
   "outputs": [
    {
     "data": {
      "text/plain": [
       "<AxesSubplot:xlabel='product_category', ylabel='total_votes'>"
      ]
     },
     "execution_count": 36,
     "metadata": {},
     "output_type": "execute_result"
    },
    {
     "data": {
      "image/png": "[encoded data removed]",
      "text/plain": [
       "<Figure size 432x288 with 1 Axes>"
      ]
     },
     "metadata": {
      "needs_background": "light"
     },
     "output_type": "display_data"
    }
   ],
   "source": [
    "no_reviews_beauty = amazon_reviews['product_category'].value_counts(sort=True)\n",
    "no_reviews_beauty\n",
    "sns.histplot(x=amazon_reviews['product_category'], y=amazon_reviews['total_votes'], bins = 4, data=amazon_reviews, legend=True)"
   ]
  },
  {
   "cell_type": "markdown",
   "metadata": {},
   "source": [
    "^^ NEEDS MORE WORK"
   ]
  },
  {
   "cell_type": "markdown",
   "metadata": {},
   "source": [
    "Linear Regression (Question 1): Does a higher star rating lead to more helpful votes?"
   ]
  },
  {
   "cell_type": "code",
   "execution_count": 39,
   "metadata": {},
   "outputs": [],
   "source": [
    "# Linear regression model test\n",
    "\n",
    "# Collecting X and Y\n",
    "X = amazon_reviews['star_rating'].values\n",
    "Y = amazon_reviews['helpful_votes'].values"
   ]
  },
  {
   "cell_type": "code",
   "execution_count": 41,
   "metadata": {},
   "outputs": [],
   "source": [
    "# Mean X and Y\n",
    "mean_x = np.mean(X)\n",
    "mean_y = np.mean(Y)\n",
    "\n",
    "# Total number of values\n",
    "m = len(X)"
   ]
  },
  {
   "cell_type": "code",
   "execution_count": 42,
   "metadata": {},
   "outputs": [
    {
     "name": "stdout",
     "output_type": "stream",
     "text": [
      "-0.06697131681624036 1.1459783439439122\n"
     ]
    }
   ],
   "source": [
    "# Calculating b1 and b2 (coefficients)\n",
    "numer = 0\n",
    "denom = 0\n",
    "\n",
    "for i in range(m):\n",
    "    numer += (X[i] - mean_x) * (Y[i] - mean_y)\n",
    "    denom += (X[i] - mean_x) ** 2\n",
    "b1 = numer/denom\n",
    "b0 = mean_y - (b1 * mean_x)\n",
    "\n",
    "print(b1, b0)"
   ]
  },
  {
   "cell_type": "code",
   "execution_count": 43,
   "metadata": {},
   "outputs": [
    {
     "data": {
      "image/png": "[encoded data removed]",
      "text/plain": [
       "<Figure size 432x288 with 1 Axes>"
      ]
     },
     "metadata": {
      "needs_background": "light"
     },
     "output_type": "display_data"
    }
   ],
   "source": [
    "# Plotting the graph and linear regression\n",
    "max_x = np.max(X) + 100\n",
    "min_x = np.max(X) - 100\n",
    "\n",
    "# Calculating the line values x and y\n",
    "x = np.linspace(min_x, max_x, 1000)\n",
    "y = b0 + b1 * x\n",
    "\n",
    "# Plotting the line\n",
    "plt.plot(x, y, color = '#58b970', label = 'Regression Line')\n",
    "# Plotting the scatter points\n",
    "plt.plot(X, Y, color = '#ef5423', label = 'Scatter Plot')\n",
    "\n",
    "plt.xlabel('Star Rating')\n",
    "plt.ylabel('Helpful Votes')\n",
    "plt.legend\n",
    "plt.show()"
   ]
  },
  {
   "cell_type": "code",
   "execution_count": 45,
   "metadata": {},
   "outputs": [
    {
     "name": "stdout",
     "output_type": "stream",
     "text": [
      "0.0029858397266955272\n"
     ]
    }
   ],
   "source": [
    "# Calculating R squared value\n",
    "ss_t = 0\n",
    "ss_r = 0\n",
    "\n",
    "for i in range(m):\n",
    "    y_pred = b0 + b1 * X[i]\n",
    "    ss_t += (Y[i] - mean_y)**2\n",
    "    ss_r += (Y[i] - y_pred)**2\n",
    "r2 = 1 - (ss_r/ss_t)\n",
    "print(r2)"
   ]
  },
  {
   "cell_type": "code",
   "execution_count": 46,
   "metadata": {},
   "outputs": [],
   "source": [
    "# Implementing linear regression using sckit learn\n",
    "from sklearn.linear_model import LinearRegression\n",
    "from sklearn.metrics import mean_squared_error"
   ]
  },
  {
   "cell_type": "code",
   "execution_count": 48,
   "metadata": {},
   "outputs": [
    {
     "name": "stdout",
     "output_type": "stream",
     "text": [
      "0.002985839726784789\n"
     ]
    }
   ],
   "source": [
    "# can't use rank 1 matrix in scit learn\n",
    "X = X.reshape((m,1))\n",
    "# creating model\n",
    "reg = LinearRegression()\n",
    "reg = reg.fit(X, Y)\n",
    "# Y prediction\n",
    "Y_pred = reg.predict(X)\n",
    "\n",
    "# Calculating the R2 score\n",
    "r2_score = reg.score(X,Y)\n",
    "print(r2_score)"
   ]
  }
 ],
 "metadata": {
  "interpreter": {
   "hash": "7a3d2e8fb7dcc7269e84d3361200691f8e3c0564fc6113f95c2512c63635566f"
  },
  "kernelspec": {
   "display_name": "Python 3.8.13 ('WM3B7')",
   "language": "python",
   "name": "python3"
  },
  "language_info": {
   "codemirror_mode": {
    "name": "ipython",
    "version": 3
   },
   "file_extension": ".py",
   "mimetype": "text/x-python",
   "name": "python",
   "nbconvert_exporter": "python",
   "pygments_lexer": "ipython3",
   "version": "3.8.13"
  },
  "orig_nbformat": 4
 },
 "nbformat": 4,
 "nbformat_minor": 2
}
